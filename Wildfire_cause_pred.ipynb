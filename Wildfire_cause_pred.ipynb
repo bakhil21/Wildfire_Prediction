{
  "cells": [
    {
      "cell_type": "markdown",
      "id": "1pz21ArYDFe0",
      "metadata": {
        "id": "1pz21ArYDFe0"
      },
      "source": [
        "# **WildFire Cause Prediction**"
      ]
    },
    {
      "cell_type": "code",
      "execution_count": null,
      "id": "93575a8b",
      "metadata": {
        "id": "93575a8b"
      },
      "outputs": [],
      "source": [
        "#importing necessary libraries\n",
        "import sqlite3\n",
        "import pandas as pd\n",
        "import matplotlib.pyplot as plt\n",
        "import seaborn as sb\n",
        "import numpy as np\n",
        "from mpl_toolkits.mplot3d import Axes3D\n",
        "from sklearn.preprocessing import StandardScaler\n",
        "from sklearn import tree, preprocessing\n",
        "from sklearn.metrics import accuracy_score, plot_confusion_matrix, confusion_matrix, ConfusionMatrixDisplay,f1_score,precision_score,recall_score\n",
        "from sklearn.svm import SVC\n",
        "from sklearn.metrics import classification_report\n",
        "from sklearn.model_selection import train_test_split\n",
        "import sklearn.ensemble as ske"
      ]
    },
    {
      "cell_type": "code",
      "execution_count": null,
      "id": "ALuYJmkemgrq",
      "metadata": {
        "colab": {
          "base_uri": "https://localhost:8080/"
        },
        "id": "ALuYJmkemgrq",
        "outputId": "d11419b9-2ece-470c-d10a-bc4969884824"
      },
      "outputs": [
        {
          "name": "stdout",
          "output_type": "stream",
          "text": [
            "Mounted at /content/drive\n"
          ]
        }
      ],
      "source": [
        "# Mounting Google Drive\n",
        "from google.colab import drive\n",
        "drive.mount('/content/drive')"
      ]
    },
    {
      "cell_type": "code",
      "execution_count": null,
      "id": "jJq9DzDZjFcR",
      "metadata": {
        "colab": {
          "base_uri": "https://localhost:8080/"
        },
        "id": "jJq9DzDZjFcR",
        "outputId": "9e94e80c-f77e-45b5-cf40-05ba87499b52"
      },
      "outputs": [
        {
          "name": "stdout",
          "output_type": "stream",
          "text": [
            "/content/drive/MyDrive/ALDA_Project\n"
          ]
        }
      ],
      "source": [
        "cd '/content/drive/MyDrive/ALDA_Project'"
      ]
    },
    {
      "cell_type": "code",
      "execution_count": null,
      "id": "5Y_rtpddq9Zg",
      "metadata": {
        "id": "5Y_rtpddq9Zg"
      },
      "outputs": [],
      "source": [
        "# reading from sqlite database \n",
        "from sqlalchemy import create_engine\n",
        "my_conn=create_engine(\"sqlite:////content/drive/MyDrive/ALDA_Project/FPA_FOD_20170508.sqlite\")"
      ]
    },
    {
      "cell_type": "code",
      "execution_count": null,
      "id": "Vq3blnKvn_LT",
      "metadata": {
        "colab": {
          "base_uri": "https://localhost:8080/",
          "height": 217
        },
        "id": "Vq3blnKvn_LT",
        "outputId": "76aad628-db25-46f1-b8b9-1a1405488ae3"
      },
      "outputs": [
        {
          "ename": "NameError",
          "evalue": "ignored",
          "output_type": "error",
          "traceback": [
            "\u001b[0;31m---------------------------------------------------------------------------\u001b[0m",
            "\u001b[0;31mNameError\u001b[0m                                 Traceback (most recent call last)",
            "\u001b[0;32m<ipython-input-4-a5ea2350bf78>\u001b[0m in \u001b[0;36m<module>\u001b[0;34m()\u001b[0m\n\u001b[1;32m      1\u001b[0m \u001b[0;31m# Reading the sql file\u001b[0m\u001b[0;34m\u001b[0m\u001b[0;34m\u001b[0m\u001b[0;34m\u001b[0m\u001b[0m\n\u001b[0;32m----> 2\u001b[0;31m \u001b[0mdf\u001b[0m \u001b[0;34m=\u001b[0m \u001b[0mpd\u001b[0m\u001b[0;34m.\u001b[0m\u001b[0mread_sql_query\u001b[0m\u001b[0;34m(\u001b[0m\u001b[0;34m\"SELECT FOD_ID, FIRE_YEAR, DISCOVERY_DATE, DISCOVERY_TIME, CONT_DATE, CONT_TIME, FIRE_SIZE, FIRE_SIZE_CLASS, LATITUDE, LONGITUDE, STATE, COUNTY, STAT_CAUSE_DESCR FROM Fires\"\u001b[0m\u001b[0;34m,\u001b[0m \u001b[0mmy_conn\u001b[0m\u001b[0;34m)\u001b[0m\u001b[0;34m\u001b[0m\u001b[0;34m\u001b[0m\u001b[0m\n\u001b[0m\u001b[1;32m      3\u001b[0m \u001b[0mdf_original\u001b[0m\u001b[0;34m=\u001b[0m \u001b[0mdf\u001b[0m \u001b[0;31m# a copy will be used later\u001b[0m\u001b[0;34m\u001b[0m\u001b[0;34m\u001b[0m\u001b[0m\n",
            "\u001b[0;31mNameError\u001b[0m: name 'my_conn' is not defined"
          ]
        }
      ],
      "source": [
        "# Reading the sql file \n",
        "df = pd.read_sql_query(\"SELECT FOD_ID, FIRE_YEAR, DISCOVERY_DATE, DISCOVERY_TIME, CONT_DATE, CONT_TIME, FIRE_SIZE, FIRE_SIZE_CLASS, LATITUDE, LONGITUDE, STATE, COUNTY, STAT_CAUSE_DESCR FROM Fires\", my_conn)\n",
        "df_original= df # a copy will be used later"
      ]
    },
    {
      "cell_type": "code",
      "execution_count": null,
      "id": "d4719597",
      "metadata": {
        "colab": {
          "base_uri": "https://localhost:8080/",
          "height": 202
        },
        "id": "d4719597",
        "outputId": "32800cad-d59c-4d13-ad2e-c52ab85ea53f"
      },
      "outputs": [
        {
          "data": {
            "text/html": [
              "<div>\n",
              "<style scoped>\n",
              "    .dataframe tbody tr th:only-of-type {\n",
              "        vertical-align: middle;\n",
              "    }\n",
              "\n",
              "    .dataframe tbody tr th {\n",
              "        vertical-align: top;\n",
              "    }\n",
              "\n",
              "    .dataframe thead th {\n",
              "        text-align: right;\n",
              "    }\n",
              "</style>\n",
              "<table border=\"1\" class=\"dataframe\">\n",
              "  <thead>\n",
              "    <tr style=\"text-align: right;\">\n",
              "      <th></th>\n",
              "      <th>FOD_ID</th>\n",
              "      <th>FIRE_YEAR</th>\n",
              "      <th>MONTH</th>\n",
              "      <th>START_DATE</th>\n",
              "      <th>DISCOVERY_TIME</th>\n",
              "      <th>END_DATE</th>\n",
              "      <th>CONT_TIME</th>\n",
              "      <th>FIRE_SIZE</th>\n",
              "      <th>FIRE_SIZE_CLASS</th>\n",
              "      <th>LATITUDE</th>\n",
              "      <th>LONGITUDE</th>\n",
              "      <th>STATE</th>\n",
              "      <th>COUNTY</th>\n",
              "      <th>STAT_CAUSE_DESCR</th>\n",
              "    </tr>\n",
              "  </thead>\n",
              "  <tbody>\n",
              "    <tr>\n",
              "      <th>0</th>\n",
              "      <td>1</td>\n",
              "      <td>2005</td>\n",
              "      <td>2</td>\n",
              "      <td>2005-02-02</td>\n",
              "      <td>1300</td>\n",
              "      <td>2005-02-02</td>\n",
              "      <td>1730</td>\n",
              "      <td>0.10</td>\n",
              "      <td>A</td>\n",
              "      <td>40.036944</td>\n",
              "      <td>-121.005833</td>\n",
              "      <td>CA</td>\n",
              "      <td>63</td>\n",
              "      <td>Miscellaneous</td>\n",
              "    </tr>\n",
              "    <tr>\n",
              "      <th>1</th>\n",
              "      <td>2</td>\n",
              "      <td>2004</td>\n",
              "      <td>5</td>\n",
              "      <td>2004-05-12</td>\n",
              "      <td>0845</td>\n",
              "      <td>2004-05-12</td>\n",
              "      <td>1530</td>\n",
              "      <td>0.25</td>\n",
              "      <td>A</td>\n",
              "      <td>38.933056</td>\n",
              "      <td>-120.404444</td>\n",
              "      <td>CA</td>\n",
              "      <td>61</td>\n",
              "      <td>Lightning</td>\n",
              "    </tr>\n",
              "    <tr>\n",
              "      <th>2</th>\n",
              "      <td>3</td>\n",
              "      <td>2004</td>\n",
              "      <td>5</td>\n",
              "      <td>2004-05-31</td>\n",
              "      <td>1921</td>\n",
              "      <td>2004-05-31</td>\n",
              "      <td>2024</td>\n",
              "      <td>0.10</td>\n",
              "      <td>A</td>\n",
              "      <td>38.984167</td>\n",
              "      <td>-120.735556</td>\n",
              "      <td>CA</td>\n",
              "      <td>17</td>\n",
              "      <td>Debris Burning</td>\n",
              "    </tr>\n",
              "    <tr>\n",
              "      <th>3</th>\n",
              "      <td>4</td>\n",
              "      <td>2004</td>\n",
              "      <td>6</td>\n",
              "      <td>2004-06-28</td>\n",
              "      <td>1600</td>\n",
              "      <td>2004-07-03</td>\n",
              "      <td>1400</td>\n",
              "      <td>0.10</td>\n",
              "      <td>A</td>\n",
              "      <td>38.559167</td>\n",
              "      <td>-119.913333</td>\n",
              "      <td>CA</td>\n",
              "      <td>3</td>\n",
              "      <td>Lightning</td>\n",
              "    </tr>\n",
              "    <tr>\n",
              "      <th>4</th>\n",
              "      <td>5</td>\n",
              "      <td>2004</td>\n",
              "      <td>6</td>\n",
              "      <td>2004-06-28</td>\n",
              "      <td>1600</td>\n",
              "      <td>2004-07-03</td>\n",
              "      <td>1200</td>\n",
              "      <td>0.10</td>\n",
              "      <td>A</td>\n",
              "      <td>38.559167</td>\n",
              "      <td>-119.933056</td>\n",
              "      <td>CA</td>\n",
              "      <td>3</td>\n",
              "      <td>Lightning</td>\n",
              "    </tr>\n",
              "  </tbody>\n",
              "</table>\n",
              "</div>"
            ],
            "text/plain": [
              "   FOD_ID  FIRE_YEAR  MONTH  ... STATE COUNTY STAT_CAUSE_DESCR\n",
              "0       1       2005      2  ...    CA     63    Miscellaneous\n",
              "1       2       2004      5  ...    CA     61        Lightning\n",
              "2       3       2004      5  ...    CA     17   Debris Burning\n",
              "3       4       2004      6  ...    CA      3        Lightning\n",
              "4       5       2004      6  ...    CA      3        Lightning\n",
              "\n",
              "[5 rows x 14 columns]"
            ]
          },
          "execution_count": 8,
          "metadata": {},
          "output_type": "execute_result"
        }
      ],
      "source": [
        "#converting the data to normal datatime format\n",
        "df['START_DATE'] = pd.to_datetime(df['DISCOVERY_DATE'] - pd.Timestamp(0).to_julian_date(), unit='D')\n",
        "df['END_DATE'] = pd.to_datetime(df['CONT_DATE'] - pd.Timestamp(0).to_julian_date(), unit='D')\n",
        "df.drop(['DISCOVERY_DATE', 'CONT_DATE'], axis=1, inplace=True)\n",
        "df['MONTH'] = pd.DatetimeIndex(df['START_DATE']).month\n",
        "# Reordering the columns\n",
        "new_cols=['FOD_ID', 'FIRE_YEAR','MONTH','START_DATE','DISCOVERY_TIME', 'END_DATE','CONT_TIME', 'FIRE_SIZE', 'FIRE_SIZE_CLASS', 'LATITUDE', 'LONGITUDE', 'STATE', 'COUNTY', 'STAT_CAUSE_DESCR']\n",
        "df=df.reindex(columns=new_cols)\n",
        "print(df.shape)\n",
        "# First five rows\n",
        "print(df.head())"
      ]
    },
    {
      "cell_type": "markdown",
      "id": "aahTYoWxMZrg",
      "metadata": {
        "id": "aahTYoWxMZrg"
      },
      "source": [
        "## EDA"
      ]
    },
    {
      "cell_type": "code",
      "execution_count": null,
      "id": "CPBUbL2gsl42",
      "metadata": {
        "colab": {
          "base_uri": "https://localhost:8080/"
        },
        "id": "CPBUbL2gsl42",
        "outputId": "5bb34f25-a2c5-4377-f5ac-3718544fc75f"
      },
      "outputs": [
        {
          "data": {
            "text/plain": [
              "['DISCOVERY_TIME', 'END_DATE', 'CONT_TIME', 'COUNTY']"
            ]
          },
          "execution_count": 9,
          "metadata": {},
          "output_type": "execute_result"
        }
      ],
      "source": [
        "#check mising values and columns\n",
        "q = df.columns[df.isnull().any()].tolist() \n",
        "print(q)"
      ]
    },
    {
      "cell_type": "code",
      "execution_count": null,
      "id": "79dVv_NZvGTe",
      "metadata": {
        "colab": {
          "base_uri": "https://localhost:8080/"
        },
        "id": "79dVv_NZvGTe",
        "outputId": "7fe76408-ca45-4f7b-8cf2-2299a3993c5c"
      },
      "outputs": [
        {
          "data": {
            "image/png": "[encoded data removed]",
            "text/plain": [
              "<Figure size 432x288 with 1 Axes>"
            ]
          },
          "metadata": {
            "needs_background": "light"
          },
          "output_type": "display_data"
        }
      ],
      "source": [
        "# Number of Fires and different reasons\n",
        "df['STAT_CAUSE_DESCR'].value_counts().plot(kind='barh')\n",
        "plt.title('WildFire Reasons and Count')\n",
        "plt.show()"
      ]
    },
    {
      "cell_type": "code",
      "execution_count": null,
      "id": "Mo1KgK-OZqKe",
      "metadata": {
        "colab": {
          "base_uri": "https://localhost:8080/"
        },
        "id": "Mo1KgK-OZqKe",
        "outputId": "5122963f-5eb1-4d73-e436-7c6375beac23"
      },
      "outputs": [
        {
          "data": {
            "image/png": "[encoded data removed]",
            "text/plain": [
              "<Figure size 720x504 with 1 Axes>"
            ]
          },
          "metadata": {},
          "output_type": "display_data"
        }
      ],
      "source": [
        "# Wildfire cause and firecouny distribution\n",
        "causes = df['STAT_CAUSE_DESCR'].value_counts()\n",
        "fig = plt.figure(figsize =(10, 7))\n",
        "plt.pie(causes, autopct='%1.1f%%',labels=causes.index)\n",
        "plt.show()"
      ]
    },
    {
      "cell_type": "markdown",
      "id": "cnDbdeUbZxs7",
      "metadata": {
        "id": "cnDbdeUbZxs7"
      },
      "source": [
        "Debris burning , Arson, Lightning are the major causes of wildfire accounting for more than 50% of total wildfires"
      ]
    },
    {
      "cell_type": "code",
      "execution_count": null,
      "id": "oaU04JkmZ7ur",
      "metadata": {
        "colab": {
          "base_uri": "https://localhost:8080/"
        },
        "id": "oaU04JkmZ7ur",
        "outputId": "1e9a1bdd-89d3-435f-c3ff-1bca75cde1cc"
      },
      "outputs": [
        {
          "data": {
            "image/png": "[encoded data removed]",
            "text/plain": [
              "<Figure size 432x288 with 1 Axes>"
            ]
          },
          "metadata": {
            "needs_background": "light"
          },
          "output_type": "display_data"
        }
      ],
      "source": [
        "#Yearwise firecount distribution\n",
        "df['FIRE_YEAR'].value_counts().plot(kind='barh',color='lightblue')\n",
        "plt.show()"
      ]
    },
    {
      "cell_type": "markdown",
      "id": "WlEXM42yaBpm",
      "metadata": {
        "id": "WlEXM42yaBpm"
      },
      "source": [
        "There is no significant difference in year on year wildfire count"
      ]
    },
    {
      "cell_type": "code",
      "execution_count": null,
      "id": "EIUvNIb3aN16",
      "metadata": {
        "colab": {
          "base_uri": "https://localhost:8080/"
        },
        "id": "EIUvNIb3aN16",
        "outputId": "ade3df03-9c14-4269-f538-a36e5615f70f"
      },
      "outputs": [
        {
          "data": {
            "image/png": "[encoded data removed]",
            "text/plain": [
              "<Figure size 720x504 with 1 Axes>"
            ]
          },
          "metadata": {},
          "output_type": "display_data"
        }
      ],
      "source": [
        "# monthwise firecount distribution\n",
        "months = df['MONTH'].value_counts()\n",
        "fig = plt.figure(figsize =(10, 7))\n",
        "plt.pie(months, autopct='%1.1f%%',labels=months.index)\n",
        "plt.show()"
      ]
    },
    {
      "cell_type": "markdown",
      "id": "kWCluJJXaSP8",
      "metadata": {
        "id": "kWCluJJXaSP8"
      },
      "source": [
        "There is significant difference between wildfire count from October-January and February-September. It might be because of weather, since weather is cold from October-January which is not conducive for wildfire. "
      ]
    },
    {
      "cell_type": "code",
      "execution_count": null,
      "id": "xKMI0Ej-vqKy",
      "metadata": {
        "colab": {
          "base_uri": "https://localhost:8080/"
        },
        "id": "xKMI0Ej-vqKy",
        "outputId": "1658fc91-9b96-44dc-8ea3-b309fd01f6fc"
      },
      "outputs": [
        {
          "data": {
            "image/png": "[encoded data removed]",
            "text/plain": [
              "<Figure size 432x288 with 1 Axes>"
            ]
          },
          "metadata": {
            "needs_background": "light"
          },
          "output_type": "display_data"
        }
      ],
      "source": [
        "# Plotting statewise firecount\n",
        "df['STATE'].value_counts().head(n=10).plot(kind='barh')\n",
        "plt.title('StateWise fire count')\n",
        "plt.show()"
      ]
    },
    {
      "cell_type": "code",
      "execution_count": null,
      "id": "eMoNXKDFalGf",
      "metadata": {
        "id": "eMoNXKDFalGf"
      },
      "outputs": [],
      "source": [
        "df_CA = df[df['STATE']=='CA']\n",
        "df_GA = df[df['STATE']=='GA']\n",
        "df_TX = df[df['STATE']=='TX']"
      ]
    },
    {
      "cell_type": "code",
      "execution_count": null,
      "id": "9VqgTUzqaoIo",
      "metadata": {
        "colab": {
          "base_uri": "https://localhost:8080/"
        },
        "id": "9VqgTUzqaoIo",
        "outputId": "95872be7-f88a-417c-d4b2-056814ee4d9e"
      },
      "outputs": [
        {
          "data": {
            "image/png": "[encoded data removed]",
            "text/plain": [
              "<Figure size 432x288 with 1 Axes>"
            ]
          },
          "metadata": {
            "needs_background": "light"
          },
          "output_type": "display_data"
        }
      ],
      "source": [
        "# causes of fire in CA\n",
        "df_CA['STAT_CAUSE_DESCR'].value_counts().plot(kind='barh',color='lightblue',title='causes of fires for CA')\n",
        "plt.show()"
      ]
    },
    {
      "cell_type": "code",
      "execution_count": null,
      "id": "7YHbaOAHatTc",
      "metadata": {
        "colab": {
          "base_uri": "https://localhost:8080/"
        },
        "id": "7YHbaOAHatTc",
        "outputId": "989f3566-74fa-4485-af11-2ce01b2ca225"
      },
      "outputs": [
        {
          "data": {
            "image/png": "[encoded data removed]",
            "text/plain": [
              "<Figure size 432x288 with 1 Axes>"
            ]
          },
          "metadata": {
            "needs_background": "light"
          },
          "output_type": "display_data"
        }
      ],
      "source": [
        "# causes of fire in GA\n",
        "df_GA['STAT_CAUSE_DESCR'].value_counts().plot(kind='barh',color='lightblue',title='causes of fires for GA')\n",
        "plt.show()"
      ]
    },
    {
      "cell_type": "code",
      "execution_count": null,
      "id": "YKFM9FT0awfT",
      "metadata": {
        "colab": {
          "base_uri": "https://localhost:8080/"
        },
        "id": "YKFM9FT0awfT",
        "outputId": "16af894d-4bb3-4be3-e8d7-da47566c00ef"
      },
      "outputs": [
        {
          "data": {
            "image/png": "[encoded data removed]",
            "text/plain": [
              "<Figure size 432x288 with 1 Axes>"
            ]
          },
          "metadata": {
            "needs_background": "light"
          },
          "output_type": "display_data"
        }
      ],
      "source": [
        "# causes of fire in TX\n",
        "df_TX['STAT_CAUSE_DESCR'].value_counts().plot(kind='barh',color='lightblue',title='causes of fires for TX')\n",
        "plt.show()"
      ]
    },
    {
      "cell_type": "code",
      "execution_count": null,
      "id": "4Azv0T2pytvx",
      "metadata": {
        "colab": {
          "base_uri": "https://localhost:8080/"
        },
        "id": "4Azv0T2pytvx",
        "outputId": "aad80b09-5352-49fb-db74-50f4ebe543eb"
      },
      "outputs": [
        {
          "data": {
            "image/png": "[encoded data removed]",
            "text/plain": [
              "<Figure size 432x288 with 1 Axes>"
            ]
          },
          "metadata": {
            "needs_background": "light"
          },
          "output_type": "display_data"
        }
      ],
      "source": [
        "# plotting firesize vs firecause\n",
        "df1 = df.groupby('STAT_CAUSE_DESCR').mean()\n",
        "plt.bar(df['STAT_CAUSE_DESCR'].unique(),df1['FIRE_SIZE'])\n",
        "plt.xticks(rotation=90)\n",
        "plt.title('Average Fire size (in acres) v/s Fire Cause')\n",
        "plt.show()"
      ]
    },
    {
      "cell_type": "markdown",
      "id": "iGkAOzcka7--",
      "metadata": {
        "id": "iGkAOzcka7--"
      },
      "source": [
        "Causes of fire vary state by state, so location will be critical attribute in prediction."
      ]
    },
    {
      "cell_type": "markdown",
      "id": "69s3lmvoD5go",
      "metadata": {
        "id": "69s3lmvoD5go"
      },
      "source": [
        "# Visualising the Dataset:\n"
      ]
    },
    {
      "cell_type": "code",
      "execution_count": null,
      "id": "Zjal5fZC0_2v",
      "metadata": {
        "id": "Zjal5fZC0_2v"
      },
      "outputs": [],
      "source": [
        "#encoding the labels\n",
        "le = preprocessing.LabelEncoder()\n",
        "df['STAT_CAUSE_DESCR'] = le.fit_transform(df['STAT_CAUSE_DESCR'])\n",
        "df['STATE'] = le.fit_transform(df['STATE'])\n",
        "df.rename(columns = {\"STAT_CAUSE_DESCR\":\"CAUSE\"}, inplace=\"True\")"
      ]
    },
    {
      "cell_type": "code",
      "execution_count": null,
      "id": "PTbUc9_J1FI3",
      "metadata": {
        "colab": {
          "base_uri": "https://localhost:8080/"
        },
        "id": "PTbUc9_J1FI3",
        "outputId": "8e75a618-7054-48bd-cd6c-7e784dd686e7"
      },
      "outputs": [
        {
          "data": {
            "text/html": [
              "<div>\n",
              "<style scoped>\n",
              "    .dataframe tbody tr th:only-of-type {\n",
              "        vertical-align: middle;\n",
              "    }\n",
              "\n",
              "    .dataframe tbody tr th {\n",
              "        vertical-align: top;\n",
              "    }\n",
              "\n",
              "    .dataframe thead th {\n",
              "        text-align: right;\n",
              "    }\n",
              "</style>\n",
              "<table border=\"1\" class=\"dataframe\">\n",
              "  <thead>\n",
              "    <tr style=\"text-align: right;\">\n",
              "      <th></th>\n",
              "      <th>FOD_ID</th>\n",
              "      <th>FIRE_YEAR</th>\n",
              "      <th>MONTH</th>\n",
              "      <th>START_DATE</th>\n",
              "      <th>DISCOVERY_TIME</th>\n",
              "      <th>END_DATE</th>\n",
              "      <th>CONT_TIME</th>\n",
              "      <th>FIRE_SIZE</th>\n",
              "      <th>FIRE_SIZE_CLASS</th>\n",
              "      <th>LATITUDE</th>\n",
              "      <th>LONGITUDE</th>\n",
              "      <th>STATE</th>\n",
              "      <th>COUNTY</th>\n",
              "      <th>CAUSE</th>\n",
              "    </tr>\n",
              "  </thead>\n",
              "  <tbody>\n",
              "    <tr>\n",
              "      <th>0</th>\n",
              "      <td>1</td>\n",
              "      <td>2005</td>\n",
              "      <td>2</td>\n",
              "      <td>2005-02-02</td>\n",
              "      <td>1300</td>\n",
              "      <td>2005-02-02</td>\n",
              "      <td>1730</td>\n",
              "      <td>0.10</td>\n",
              "      <td>A</td>\n",
              "      <td>40.036944</td>\n",
              "      <td>-121.005833</td>\n",
              "      <td>4</td>\n",
              "      <td>63</td>\n",
              "      <td>7</td>\n",
              "    </tr>\n",
              "    <tr>\n",
              "      <th>1</th>\n",
              "      <td>2</td>\n",
              "      <td>2004</td>\n",
              "      <td>5</td>\n",
              "      <td>2004-05-12</td>\n",
              "      <td>0845</td>\n",
              "      <td>2004-05-12</td>\n",
              "      <td>1530</td>\n",
              "      <td>0.25</td>\n",
              "      <td>A</td>\n",
              "      <td>38.933056</td>\n",
              "      <td>-120.404444</td>\n",
              "      <td>4</td>\n",
              "      <td>61</td>\n",
              "      <td>6</td>\n",
              "    </tr>\n",
              "    <tr>\n",
              "      <th>2</th>\n",
              "      <td>3</td>\n",
              "      <td>2004</td>\n",
              "      <td>5</td>\n",
              "      <td>2004-05-31</td>\n",
              "      <td>1921</td>\n",
              "      <td>2004-05-31</td>\n",
              "      <td>2024</td>\n",
              "      <td>0.10</td>\n",
              "      <td>A</td>\n",
              "      <td>38.984167</td>\n",
              "      <td>-120.735556</td>\n",
              "      <td>4</td>\n",
              "      <td>17</td>\n",
              "      <td>3</td>\n",
              "    </tr>\n",
              "    <tr>\n",
              "      <th>3</th>\n",
              "      <td>4</td>\n",
              "      <td>2004</td>\n",
              "      <td>6</td>\n",
              "      <td>2004-06-28</td>\n",
              "      <td>1600</td>\n",
              "      <td>2004-07-03</td>\n",
              "      <td>1400</td>\n",
              "      <td>0.10</td>\n",
              "      <td>A</td>\n",
              "      <td>38.559167</td>\n",
              "      <td>-119.913333</td>\n",
              "      <td>4</td>\n",
              "      <td>3</td>\n",
              "      <td>6</td>\n",
              "    </tr>\n",
              "    <tr>\n",
              "      <th>4</th>\n",
              "      <td>5</td>\n",
              "      <td>2004</td>\n",
              "      <td>6</td>\n",
              "      <td>2004-06-28</td>\n",
              "      <td>1600</td>\n",
              "      <td>2004-07-03</td>\n",
              "      <td>1200</td>\n",
              "      <td>0.10</td>\n",
              "      <td>A</td>\n",
              "      <td>38.559167</td>\n",
              "      <td>-119.933056</td>\n",
              "      <td>4</td>\n",
              "      <td>3</td>\n",
              "      <td>6</td>\n",
              "    </tr>\n",
              "  </tbody>\n",
              "</table>\n",
              "</div>"
            ],
            "text/plain": [
              "   FOD_ID  FIRE_YEAR  MONTH START_DATE  ...   LONGITUDE STATE COUNTY  CAUSE\n",
              "0       1       2005      2 2005-02-02  ... -121.005833     4     63      7\n",
              "1       2       2004      5 2004-05-12  ... -120.404444     4     61      6\n",
              "2       3       2004      5 2004-05-31  ... -120.735556     4     17      3\n",
              "3       4       2004      6 2004-06-28  ... -119.913333     4      3      6\n",
              "4       5       2004      6 2004-06-28  ... -119.933056     4      3      6\n",
              "\n",
              "[5 rows x 14 columns]"
            ]
          },
          "execution_count": 21,
          "metadata": {},
          "output_type": "execute_result"
        }
      ],
      "source": [
        "print(df.head())"
      ]
    },
    {
      "cell_type": "code",
      "execution_count": null,
      "id": "kfcKRptX09TK",
      "metadata": {
        "id": "kfcKRptX09TK"
      },
      "outputs": [],
      "source": [
        "df['DAY_OF_WEEK'] = pd.DatetimeIndex(df['START_DATE']).weekday"
      ]
    },
    {
      "cell_type": "code",
      "execution_count": null,
      "id": "Zkc28mp-0IOs",
      "metadata": {
        "colab": {
          "base_uri": "https://localhost:8080/"
        },
        "id": "Zkc28mp-0IOs",
        "outputId": "b72bab6c-9d8c-4c75-f9e6-5ebf0121f9f7"
      },
      "outputs": [
        {
          "data": {
            "image/png": "[encoded data removed]",
            "text/plain": [
              "<Figure size 864x576 with 2 Axes>"
            ]
          },
          "metadata": {
            "needs_background": "light"
          },
          "output_type": "display_data"
        }
      ],
      "source": [
        "#Corralation\n",
        "plt.figure(figsize=(12, 8))\n",
        "df_copy = df.drop('FOD_ID', axis=1)\n",
        "corr = df_copy.corr()\n",
        "sb.heatmap(corr, annot=True)\n",
        "plt.title('Correalation Matrix')\n",
        "plt.show()\n"
      ]
    },
    {
      "cell_type": "code",
      "execution_count": null,
      "id": "Xl1awiub2Ph6",
      "metadata": {
        "colab": {
          "base_uri": "https://localhost:8080/"
        },
        "id": "Xl1awiub2Ph6",
        "outputId": "397effab-3a01-4a90-a0e8-24711e91dc01"
      },
      "outputs": [
        {
          "data": {
            "text/html": [
              "<div>\n",
              "<style scoped>\n",
              "    .dataframe tbody tr th:only-of-type {\n",
              "        vertical-align: middle;\n",
              "    }\n",
              "\n",
              "    .dataframe tbody tr th {\n",
              "        vertical-align: top;\n",
              "    }\n",
              "\n",
              "    .dataframe thead th {\n",
              "        text-align: right;\n",
              "    }\n",
              "</style>\n",
              "<table border=\"1\" class=\"dataframe\">\n",
              "  <thead>\n",
              "    <tr style=\"text-align: right;\">\n",
              "      <th></th>\n",
              "      <th>FOD_ID</th>\n",
              "      <th>FIRE_YEAR</th>\n",
              "      <th>MONTH</th>\n",
              "      <th>START_DATE</th>\n",
              "      <th>DISCOVERY_TIME</th>\n",
              "      <th>END_DATE</th>\n",
              "      <th>CONT_TIME</th>\n",
              "      <th>FIRE_SIZE</th>\n",
              "      <th>FIRE_SIZE_CLASS</th>\n",
              "      <th>LATITUDE</th>\n",
              "      <th>LONGITUDE</th>\n",
              "      <th>STATE</th>\n",
              "      <th>COUNTY</th>\n",
              "      <th>CAUSE</th>\n",
              "      <th>DAY_OF_WEEK</th>\n",
              "    </tr>\n",
              "  </thead>\n",
              "  <tbody>\n",
              "    <tr>\n",
              "      <th>0</th>\n",
              "      <td>1</td>\n",
              "      <td>2005</td>\n",
              "      <td>2</td>\n",
              "      <td>2005-02-02</td>\n",
              "      <td>1300</td>\n",
              "      <td>2005-02-02</td>\n",
              "      <td>1730</td>\n",
              "      <td>0.10</td>\n",
              "      <td>A</td>\n",
              "      <td>40.036944</td>\n",
              "      <td>-121.005833</td>\n",
              "      <td>4</td>\n",
              "      <td>63</td>\n",
              "      <td>7</td>\n",
              "      <td>2</td>\n",
              "    </tr>\n",
              "    <tr>\n",
              "      <th>1</th>\n",
              "      <td>2</td>\n",
              "      <td>2004</td>\n",
              "      <td>5</td>\n",
              "      <td>2004-05-12</td>\n",
              "      <td>0845</td>\n",
              "      <td>2004-05-12</td>\n",
              "      <td>1530</td>\n",
              "      <td>0.25</td>\n",
              "      <td>A</td>\n",
              "      <td>38.933056</td>\n",
              "      <td>-120.404444</td>\n",
              "      <td>4</td>\n",
              "      <td>61</td>\n",
              "      <td>6</td>\n",
              "      <td>2</td>\n",
              "    </tr>\n",
              "    <tr>\n",
              "      <th>2</th>\n",
              "      <td>3</td>\n",
              "      <td>2004</td>\n",
              "      <td>5</td>\n",
              "      <td>2004-05-31</td>\n",
              "      <td>1921</td>\n",
              "      <td>2004-05-31</td>\n",
              "      <td>2024</td>\n",
              "      <td>0.10</td>\n",
              "      <td>A</td>\n",
              "      <td>38.984167</td>\n",
              "      <td>-120.735556</td>\n",
              "      <td>4</td>\n",
              "      <td>17</td>\n",
              "      <td>3</td>\n",
              "      <td>0</td>\n",
              "    </tr>\n",
              "    <tr>\n",
              "      <th>3</th>\n",
              "      <td>4</td>\n",
              "      <td>2004</td>\n",
              "      <td>6</td>\n",
              "      <td>2004-06-28</td>\n",
              "      <td>1600</td>\n",
              "      <td>2004-07-03</td>\n",
              "      <td>1400</td>\n",
              "      <td>0.10</td>\n",
              "      <td>A</td>\n",
              "      <td>38.559167</td>\n",
              "      <td>-119.913333</td>\n",
              "      <td>4</td>\n",
              "      <td>3</td>\n",
              "      <td>6</td>\n",
              "      <td>0</td>\n",
              "    </tr>\n",
              "    <tr>\n",
              "      <th>4</th>\n",
              "      <td>5</td>\n",
              "      <td>2004</td>\n",
              "      <td>6</td>\n",
              "      <td>2004-06-28</td>\n",
              "      <td>1600</td>\n",
              "      <td>2004-07-03</td>\n",
              "      <td>1200</td>\n",
              "      <td>0.10</td>\n",
              "      <td>A</td>\n",
              "      <td>38.559167</td>\n",
              "      <td>-119.933056</td>\n",
              "      <td>4</td>\n",
              "      <td>3</td>\n",
              "      <td>6</td>\n",
              "      <td>0</td>\n",
              "    </tr>\n",
              "  </tbody>\n",
              "</table>\n",
              "</div>"
            ],
            "text/plain": [
              "   FOD_ID  FIRE_YEAR  MONTH START_DATE  ... STATE COUNTY CAUSE  DAY_OF_WEEK\n",
              "0       1       2005      2 2005-02-02  ...     4     63     7            2\n",
              "1       2       2004      5 2004-05-12  ...     4     61     6            2\n",
              "2       3       2004      5 2004-05-31  ...     4     17     3            0\n",
              "3       4       2004      6 2004-06-28  ...     4      3     6            0\n",
              "4       5       2004      6 2004-06-28  ...     4      3     6            0\n",
              "\n",
              "[5 rows x 15 columns]"
            ]
          },
          "execution_count": 24,
          "metadata": {},
          "output_type": "execute_result"
        }
      ],
      "source": [
        "print(df.head())"
      ]
    },
    {
      "cell_type": "code",
      "execution_count": null,
      "id": "ZrvcBVMS2tew",
      "metadata": {
        "id": "ZrvcBVMS2tew"
      },
      "outputs": [],
      "source": [
        "xdf = df.drop(['FOD_ID','START_DATE','DISCOVERY_TIME','END_DATE','CONT_TIME','FIRE_SIZE_CLASS','COUNTY','CAUSE'], axis=1)\n",
        "ydf = df['CAUSE']\n",
        "\n",
        "X = df.drop(['FOD_ID','START_DATE','DISCOVERY_TIME','END_DATE','CONT_TIME','FIRE_SIZE_CLASS','COUNTY','CAUSE'], axis=1).values\n",
        "y = df['CAUSE'].values"
      ]
    },
    {
      "cell_type": "code",
      "execution_count": null,
      "id": "ww2L5wT33_C7",
      "metadata": {
        "id": "ww2L5wT33_C7"
      },
      "outputs": [],
      "source": [
        "X_train, X_test, y_train, y_test = train_test_split(X,y,test_size=0.3, random_state=0) "
      ]
    },
    {
      "cell_type": "code",
      "execution_count": null,
      "id": "zYFRSV3x4Ggc",
      "metadata": {
        "id": "zYFRSV3x4Ggc"
      },
      "outputs": [],
      "source": [
        "# RFC with 13 features in the cause\n",
        "model1 = ske.RandomForestClassifier(n_estimators=50)\n",
        "model1 = model1.fit(X_train, y_train)\n",
        "print(model1.score(X_test,y_test))"
      ]
    },
    {
      "cell_type": "code",
      "execution_count": null,
      "id": "fYEfa7SP6ZBr",
      "metadata": {
        "colab": {
          "base_uri": "https://localhost:8080/"
        },
        "id": "fYEfa7SP6ZBr",
        "outputId": "64153075-7213-4a87-8f3f-f6698dc2ed93"
      },
      "outputs": [
        {
          "data": {
            "text/html": [
              "<div>\n",
              "<style scoped>\n",
              "    .dataframe tbody tr th:only-of-type {\n",
              "        vertical-align: middle;\n",
              "    }\n",
              "\n",
              "    .dataframe tbody tr th {\n",
              "        vertical-align: top;\n",
              "    }\n",
              "\n",
              "    .dataframe thead th {\n",
              "        text-align: right;\n",
              "    }\n",
              "</style>\n",
              "<table border=\"1\" class=\"dataframe\">\n",
              "  <thead>\n",
              "    <tr style=\"text-align: right;\">\n",
              "      <th></th>\n",
              "      <th>FOD_ID</th>\n",
              "      <th>FIRE_YEAR</th>\n",
              "      <th>MONTH</th>\n",
              "      <th>START_DATE</th>\n",
              "      <th>DISCOVERY_TIME</th>\n",
              "      <th>END_DATE</th>\n",
              "      <th>CONT_TIME</th>\n",
              "      <th>FIRE_SIZE</th>\n",
              "      <th>FIRE_SIZE_CLASS</th>\n",
              "      <th>LATITUDE</th>\n",
              "      <th>LONGITUDE</th>\n",
              "      <th>STATE</th>\n",
              "      <th>COUNTY</th>\n",
              "      <th>DAY_OF_WEEK</th>\n",
              "      <th>LABEL</th>\n",
              "    </tr>\n",
              "  </thead>\n",
              "  <tbody>\n",
              "    <tr>\n",
              "      <th>0</th>\n",
              "      <td>1</td>\n",
              "      <td>2005</td>\n",
              "      <td>2</td>\n",
              "      <td>2005-02-02</td>\n",
              "      <td>1300</td>\n",
              "      <td>2005-02-02</td>\n",
              "      <td>1730</td>\n",
              "      <td>0.10</td>\n",
              "      <td>A</td>\n",
              "      <td>40.036944</td>\n",
              "      <td>-121.005833</td>\n",
              "      <td>4</td>\n",
              "      <td>63</td>\n",
              "      <td>2</td>\n",
              "      <td>4</td>\n",
              "    </tr>\n",
              "    <tr>\n",
              "      <th>1</th>\n",
              "      <td>2</td>\n",
              "      <td>2004</td>\n",
              "      <td>5</td>\n",
              "      <td>2004-05-12</td>\n",
              "      <td>0845</td>\n",
              "      <td>2004-05-12</td>\n",
              "      <td>1530</td>\n",
              "      <td>0.25</td>\n",
              "      <td>A</td>\n",
              "      <td>38.933056</td>\n",
              "      <td>-120.404444</td>\n",
              "      <td>4</td>\n",
              "      <td>61</td>\n",
              "      <td>2</td>\n",
              "      <td>1</td>\n",
              "    </tr>\n",
              "    <tr>\n",
              "      <th>2</th>\n",
              "      <td>3</td>\n",
              "      <td>2004</td>\n",
              "      <td>5</td>\n",
              "      <td>2004-05-31</td>\n",
              "      <td>1921</td>\n",
              "      <td>2004-05-31</td>\n",
              "      <td>2024</td>\n",
              "      <td>0.10</td>\n",
              "      <td>A</td>\n",
              "      <td>38.984167</td>\n",
              "      <td>-120.735556</td>\n",
              "      <td>4</td>\n",
              "      <td>17</td>\n",
              "      <td>0</td>\n",
              "      <td>2</td>\n",
              "    </tr>\n",
              "    <tr>\n",
              "      <th>3</th>\n",
              "      <td>4</td>\n",
              "      <td>2004</td>\n",
              "      <td>6</td>\n",
              "      <td>2004-06-28</td>\n",
              "      <td>1600</td>\n",
              "      <td>2004-07-03</td>\n",
              "      <td>1400</td>\n",
              "      <td>0.10</td>\n",
              "      <td>A</td>\n",
              "      <td>38.559167</td>\n",
              "      <td>-119.913333</td>\n",
              "      <td>4</td>\n",
              "      <td>3</td>\n",
              "      <td>0</td>\n",
              "      <td>1</td>\n",
              "    </tr>\n",
              "    <tr>\n",
              "      <th>4</th>\n",
              "      <td>5</td>\n",
              "      <td>2004</td>\n",
              "      <td>6</td>\n",
              "      <td>2004-06-28</td>\n",
              "      <td>1600</td>\n",
              "      <td>2004-07-03</td>\n",
              "      <td>1200</td>\n",
              "      <td>0.10</td>\n",
              "      <td>A</td>\n",
              "      <td>38.559167</td>\n",
              "      <td>-119.933056</td>\n",
              "      <td>4</td>\n",
              "      <td>3</td>\n",
              "      <td>0</td>\n",
              "      <td>1</td>\n",
              "    </tr>\n",
              "  </tbody>\n",
              "</table>\n",
              "</div>"
            ],
            "text/plain": [
              "   FOD_ID  FIRE_YEAR  MONTH START_DATE  ... STATE COUNTY DAY_OF_WEEK  LABEL\n",
              "0       1       2005      2 2005-02-02  ...     4     63           2      4\n",
              "1       2       2004      5 2004-05-12  ...     4     61           2      1\n",
              "2       3       2004      5 2004-05-31  ...     4     17           0      2\n",
              "3       4       2004      6 2004-06-28  ...     4      3           0      1\n",
              "4       5       2004      6 2004-06-28  ...     4      3           0      1\n",
              "\n",
              "[5 rows x 15 columns]"
            ]
          },
          "execution_count": 29,
          "metadata": {},
          "output_type": "execute_result"
        }
      ],
      "source": [
        "# making 4 categories from 13 features\n",
        "def set_label(cat):\n",
        "    cause = 0\n",
        "    natural = ['Lightning']\n",
        "    accidental = ['Structure','Fireworks','Powerline','Railroad','Smoking','Children','Campfire','Equipment Use','Debris Burning']\n",
        "    malicious = ['Arson']\n",
        "    other = ['Missing/Undefined','Miscellaneous']\n",
        "    if cat in natural:\n",
        "        cause = 1\n",
        "    elif cat in accidental:\n",
        "        cause = 2\n",
        "    elif cat in malicious:\n",
        "        cause = 3\n",
        "    else:\n",
        "        cause = 4\n",
        "    return cause\n",
        "     \n",
        "\n",
        "df['LABEL'] = df_original['STAT_CAUSE_DESCR'].apply(lambda x: set_label(x)) # I created a copy of the original df earlier in the kernel\n",
        "df = df.drop('CAUSE',axis=1)\n",
        "print(df.head())"
      ]
    },
    {
      "cell_type": "code",
      "execution_count": null,
      "id": "rABwtISsFgZ_",
      "metadata": {
        "colab": {
          "base_uri": "https://localhost:8080/"
        },
        "id": "rABwtISsFgZ_",
        "outputId": "d40aa432-ce93-463b-a080-f3fcaae266fe"
      },
      "outputs": [
        {
          "data": {
            "text/plain": [
              "2    830014\n",
              "4    490528\n",
              "3    281455\n",
              "1    278468\n",
              "Name: LABEL, dtype: int64"
            ]
          },
          "execution_count": 30,
          "metadata": {},
          "output_type": "execute_result"
        }
      ],
      "source": [
        "w = df['LABEL'].value_counts()\n",
        "print(w)"
      ]
    },
    {
      "cell_type": "code",
      "execution_count": null,
      "id": "D-f8FGZt6tSV",
      "metadata": {
        "colab": {
          "base_uri": "https://localhost:8080/"
        },
        "id": "D-f8FGZt6tSV",
        "outputId": "3270804c-ac78-41ae-92fb-900070af8461"
      },
      "outputs": [
        {
          "name": "stdout",
          "output_type": "stream",
          "text": [
            "{1, 2, 3, 4}\n"
          ]
        }
      ],
      "source": [
        "X = df.drop(['FOD_ID','START_DATE','DISCOVERY_TIME','END_DATE','CONT_TIME','FIRE_SIZE_CLASS','COUNTY','LABEL'], axis=1).values\n",
        "y = df['LABEL'].values\n",
        "print(set(y))"
      ]
    },
    {
      "cell_type": "code",
      "execution_count": null,
      "id": "gsXOqQ_FjIyL",
      "metadata": {
        "id": "gsXOqQ_FjIyL"
      },
      "outputs": [],
      "source": [
        "X_train, X_test, y_train, y_test = train_test_split(X,y,test_size=0.3, random_state=0)"
      ]
    },
    {
      "cell_type": "markdown",
      "id": "mpx6Gw11PHTa",
      "metadata": {
        "id": "mpx6Gw11PHTa"
      },
      "source": [
        "# General Methods"
      ]
    },
    {
      "cell_type": "markdown",
      "id": "9wsG4kEPAWZo",
      "metadata": {
        "id": "9wsG4kEPAWZo"
      },
      "source": [
        "## Random Forest Classifier"
      ]
    },
    {
      "cell_type": "code",
      "execution_count": null,
      "id": "M8bag2HMfNKm",
      "metadata": {
        "colab": {
          "base_uri": "https://localhost:8080/"
        },
        "id": "M8bag2HMfNKm",
        "outputId": "93bbe564-093b-430a-b930-be61bd25527a"
      },
      "outputs": [
        {
          "name": "stdout",
          "output_type": "stream",
          "text": [
            "[[ 66578  11329    904   4505]\n",
            " [ 11203 199452  16986  21687]\n",
            " [  1567  36114  38876   7613]\n",
            " [  7038  46365   5222  88701]]\n",
            "              precision    recall  f1-score   support\n",
            "\n",
            "           1       0.77      0.80      0.78     83316\n",
            "           2       0.68      0.80      0.74    249328\n",
            "           3       0.63      0.46      0.53     84170\n",
            "           4       0.72      0.60      0.66    147326\n",
            "\n",
            "    accuracy                           0.70    564140\n",
            "   macro avg       0.70      0.67      0.68    564140\n",
            "weighted avg       0.70      0.70      0.69    564140\n",
            "\n"
          ]
        }
      ],
      "source": [
        "# Random Forest Classifier\n",
        "model2 = ske.RandomForestClassifier(n_estimators=50)\n",
        "y_pred = model2.fit(X_train, y_train).predict(X_test)\n",
        "#print(confusion_matrix(y_true=y_test,y_pred=y_pred))\n",
        "print(classification_report(y_test, y_pred))\n",
        "cm_rfc = confusion_matrix(y_test,y_pred,normalize='true')\n",
        "disp = ConfusionMatrixDisplay(confusion_matrix=cm_rfc,display_labels=['natural','accidental','malicious','other'])\n",
        "disp.plot()"
      ]
    },
    {
      "cell_type": "code",
      "execution_count": null,
      "id": "zTGuZhvFhpCE",
      "metadata": {
        "colab": {
          "base_uri": "https://localhost:8080/",
          "height": 296
        },
        "id": "zTGuZhvFhpCE",
        "outputId": "2f367c87-a588-4648-bccd-d868eef97c24"
      },
      "outputs": [
        {
          "data": {
            "text/plain": [
              "<sklearn.metrics._plot.confusion_matrix.ConfusionMatrixDisplay at 0x7facd88acad0>"
            ]
          },
          "execution_count": 37,
          "metadata": {},
          "output_type": "execute_result"
        },
        {
          "data": {
            "image/png": "[encoded data removed]",
            "text/plain": [
              "<Figure size 432x288 with 2 Axes>"
            ]
          },
          "metadata": {},
          "output_type": "display_data"
        }
      ],
      "source": []
    },
    {
      "cell_type": "markdown",
      "id": "g78Ffg_sWcFw",
      "metadata": {
        "id": "g78Ffg_sWcFw"
      },
      "source": [
        "## Adaboost Classifier"
      ]
    },
    {
      "cell_type": "code",
      "execution_count": null,
      "id": "1PT-3-KEWbGh",
      "metadata": {
        "colab": {
          "base_uri": "https://localhost:8080/",
          "height": 492
        },
        "id": "1PT-3-KEWbGh",
        "outputId": "5956ee31-3f8e-45be-f1f3-868849530a85"
      },
      "outputs": [
        {
          "name": "stdout",
          "output_type": "stream",
          "text": [
            "              precision    recall  f1-score   support\n",
            "\n",
            "           1       0.59      0.67      0.63     83316\n",
            "           2       0.53      0.85      0.65    249328\n",
            "           3       0.47      0.10      0.17     84170\n",
            "           4       0.59      0.23      0.33    147326\n",
            "\n",
            "    accuracy                           0.55    564140\n",
            "   macro avg       0.55      0.46      0.45    564140\n",
            "weighted avg       0.55      0.55      0.49    564140\n",
            "\n"
          ]
        },
        {
          "data": {
            "text/plain": [
              "<sklearn.metrics._plot.confusion_matrix.ConfusionMatrixDisplay at 0x7facd3bbe450>"
            ]
          },
          "execution_count": 49,
          "metadata": {},
          "output_type": "execute_result"
        },
        {
          "data": {
            "image/png": "[encoded data removed]",
            "text/plain": [
              "<Figure size 432x288 with 2 Axes>"
            ]
          },
          "metadata": {},
          "output_type": "display_data"
        }
      ],
      "source": [
        "#Adaboost classifier\n",
        "\n",
        "from sklearn.ensemble import AdaBoostClassifier\n",
        "\n",
        "clfab = AdaBoostClassifier(n_estimators=100, random_state=0)\n",
        "clfab.fit(X_train, y_train)\n",
        "y_pred_ab = clfab.predict(X_test)\n",
        "print(classification_report(y_test, y_pred_ab))\n",
        "\n",
        "cm_ab = confusion_matrix(y_test,y_pred_ab,normalize='true')\n",
        "disp = ConfusionMatrixDisplay(confusion_matrix=cm_ab,display_labels=['natural','accidental','malicious','other'])\n",
        "disp.plot()\n"
      ]
    },
    {
      "cell_type": "markdown",
      "id": "wSL9VT4SYWSy",
      "metadata": {
        "id": "wSL9VT4SYWSy"
      },
      "source": [
        "## Decision Tree Classifier"
      ]
    },
    {
      "cell_type": "code",
      "execution_count": null,
      "id": "MGYgnSVGYVR1",
      "metadata": {
        "colab": {
          "base_uri": "https://localhost:8080/",
          "height": 495
        },
        "id": "MGYgnSVGYVR1",
        "outputId": "de7994c3-1202-4b7d-abc3-9fe66d921ef5"
      },
      "outputs": [
        {
          "name": "stdout",
          "output_type": "stream",
          "text": [
            "              precision    recall  f1-score   support\n",
            "\n",
            "           1       0.70      0.70      0.70     83316\n",
            "           2       0.66      0.64      0.65    249328\n",
            "           3       0.46      0.48      0.47     84170\n",
            "           4       0.59      0.60      0.59    147326\n",
            "\n",
            "    accuracy                           0.61    564140\n",
            "   macro avg       0.60      0.60      0.60    564140\n",
            "weighted avg       0.62      0.61      0.61    564140\n",
            "\n"
          ]
        },
        {
          "data": {
            "text/plain": [
              "<sklearn.metrics._plot.confusion_matrix.ConfusionMatrixDisplay at 0x7facd53c0c90>"
            ]
          },
          "execution_count": 47,
          "metadata": {},
          "output_type": "execute_result"
        },
        {
          "data": {
            "image/png": "[encoded data removed]",
            "text/plain": [
              "<Figure size 432x288 with 2 Axes>"
            ]
          },
          "metadata": {},
          "output_type": "display_data"
        }
      ],
      "source": [
        "#Decision Tree Classifier\n",
        "from sklearn.tree import DecisionTreeClassifier\n",
        "clfdt = DecisionTreeClassifier(random_state=0)\n",
        "clfdt.fit(X_train, y_train)\n",
        "y_pred_dt = clfdt.predict(X_test)\n",
        "print(classification_report(y_test, y_pred_dt))\n",
        "\n",
        "cm_dt = confusion_matrix(y_test,y_pred_dt,normalize='true')\n",
        "disp = ConfusionMatrixDisplay(confusion_matrix=cm_dt,display_labels=['natural','accidental','malicious','other'])\n",
        "disp.plot()\n"
      ]
    },
    {
      "cell_type": "markdown",
      "id": "P6Q9DYCQ9qtQ",
      "metadata": {
        "id": "P6Q9DYCQ9qtQ"
      },
      "source": [
        "## K Nearest Neighbor Classifier"
      ]
    },
    {
      "cell_type": "code",
      "execution_count": null,
      "id": "o2JhNxen9ufy",
      "metadata": {
        "colab": {
          "base_uri": "https://localhost:8080/"
        },
        "id": "o2JhNxen9ufy",
        "outputId": "f08cf2e3-a8ce-4521-a2ab-5f43d396d535"
      },
      "outputs": [
        {
          "name": "stdout",
          "output_type": "stream",
          "text": [
            "              precision    recall  f1-score   support\n",
            "\n",
            "           1       0.67      0.77      0.72     83316\n",
            "           2       0.64      0.74      0.69    249328\n",
            "           3       0.49      0.37      0.42     84170\n",
            "           4       0.68      0.54      0.60    147326\n",
            "\n",
            "    accuracy                           0.64    564140\n",
            "   macro avg       0.62      0.61      0.61    564140\n",
            "weighted avg       0.63      0.64      0.63    564140\n",
            "\n"
          ]
        }
      ],
      "source": [
        "# K Nearest Neighbor Classifier\n",
        "from sklearn.neighbors import KNeighborsClassifier\n",
        "\n",
        "knn = KNeighborsClassifier(n_neighbors = 5)\n",
        "knn.fit(X_train, y_train)\n",
        "y_pred_knn = knn.predict(X_test)\n",
        "\n",
        "print(classification_report(y_test, y_pred_knn))\n",
        "cm_knn = confusion_matrix(y_test,y_pred_knn,normalize='true')\n",
        "disp = ConfusionMatrixDisplay(confusion_matrix=cm_knn,display_labels=['natural','accidental','malicious','other'])\n",
        "disp.plot()"
      ]
    },
    {
      "cell_type": "code",
      "execution_count": null,
      "id": "dSxdU85aTOcI",
      "metadata": {
        "colab": {
          "base_uri": "https://localhost:8080/",
          "height": 296
        },
        "id": "dSxdU85aTOcI",
        "outputId": "2d8d6c2f-e03e-4a7b-ace0-6cd47df29442"
      },
      "outputs": [
        {
          "data": {
            "text/plain": [
              "<sklearn.metrics._plot.confusion_matrix.ConfusionMatrixDisplay at 0x7facd694a450>"
            ]
          },
          "execution_count": 40,
          "metadata": {},
          "output_type": "execute_result"
        },
        {
          "data": {
            "image/png": "[encoded data removed]",
            "text/plain": [
              "<Figure size 432x288 with 2 Axes>"
            ]
          },
          "metadata": {},
          "output_type": "display_data"
        }
      ],
      "source": []
    },
    {
      "cell_type": "markdown",
      "id": "-xxMSL2ZNZ_4",
      "metadata": {
        "id": "-xxMSL2ZNZ_4"
      },
      "source": [
        "# Bi-Directional LSTM"
      ]
    },
    {
      "cell_type": "code",
      "execution_count": null,
      "id": "wftm6izlNb93",
      "metadata": {
        "id": "wftm6izlNb93"
      },
      "outputs": [],
      "source": [
        "from sklearn.preprocessing import RobustScaler, MinMaxScaler\n",
        "from keras.models import Sequential\n",
        "from keras.layers import Dense, Flatten\n",
        "from keras.layers import Dropout, Conv1D, MaxPooling1D\n",
        "import keras.utils\n",
        "from keras.utils.np_utils import to_categorical\n",
        "from keras.layers import LSTM"
      ]
    },
    {
      "cell_type": "code",
      "execution_count": null,
      "id": "k65eFsl7QEDo",
      "metadata": {
        "colab": {
          "base_uri": "https://localhost:8080/"
        },
        "id": "k65eFsl7QEDo",
        "outputId": "5101ed2d-e57c-44be-d9f6-023a1efbfc0d"
      },
      "outputs": [
        {
          "name": "stdout",
          "output_type": "stream",
          "text": [
            "(1880465, 7)\n",
            "(1880465,)\n"
          ]
        }
      ],
      "source": [
        "# redefining training and testing set\n",
        "xdf = df.drop(['FOD_ID','START_DATE','DISCOVERY_TIME','END_DATE','CONT_TIME','FIRE_SIZE_CLASS','COUNTY','LABEL'], axis=1)\n",
        "ydf = df['LABEL']\n",
        "\n",
        "print(\"Shape of x dataframe\",xdf.shape)\n",
        "print(\"Shape of y dataframe\",ydf.shape)"
      ]
    },
    {
      "cell_type": "code",
      "execution_count": null,
      "id": "g5f-frNSRi0H",
      "metadata": {
        "colab": {
          "base_uri": "https://localhost:8080/"
        },
        "id": "g5f-frNSRi0H",
        "outputId": "bd408f02-d21b-411c-ba98-ba36cefb8dd4"
      },
      "outputs": [
        {
          "name": "stdout",
          "output_type": "stream",
          "text": [
            "X_train, Y_train shape (1316325, 7) (1316325,)\n",
            "\n",
            "X_test, Y_test shape (564140, 7) (564140,)\n"
          ]
        }
      ],
      "source": [
        "x_train, x_test, y_train, y_test = train_test_split(xdf,ydf,test_size=0.3,train_size=0.7)\n",
        "\n",
        "print(\"X_train, Y_train shape\",x_train.shape, y_train.shape)\n",
        "print(\"\\nX_test, Y_test shape\",x_test.shape, y_test.shape)"
      ]
    },
    {
      "cell_type": "code",
      "execution_count": null,
      "id": "cb7dyRKNN9Qs",
      "metadata": {
        "colab": {
          "base_uri": "https://localhost:8080/"
        },
        "id": "cb7dyRKNN9Qs",
        "outputId": "456ae35d-51c9-42ca-c276-928a0e3fea2a"
      },
      "outputs": [
        {
          "name": "stderr",
          "output_type": "stream",
          "text": [
            "/usr/local/lib/python3.7/dist-packages/pandas/core/indexing.py:1734: SettingWithCopyWarning: \n",
            "A value is trying to be set on a copy of a slice from a DataFrame.\n",
            "Try using .loc[row_indexer,col_indexer] = value instead\n",
            "\n",
            "See the caveats in the documentation: https://pandas.pydata.org/pandas-docs/stable/user_guide/indexing.html#returning-a-view-versus-a-copy\n",
            "  isetter(loc, value[:, i].tolist())\n",
            "/usr/local/lib/python3.7/dist-packages/pandas/core/indexing.py:1734: SettingWithCopyWarning: \n",
            "A value is trying to be set on a copy of a slice from a DataFrame.\n",
            "Try using .loc[row_indexer,col_indexer] = value instead\n",
            "\n",
            "See the caveats in the documentation: https://pandas.pydata.org/pandas-docs/stable/user_guide/indexing.html#returning-a-view-versus-a-copy\n",
            "  isetter(loc, value[:, i].tolist())\n"
          ]
        }
      ],
      "source": [
        "# Using Minmax scaler\n",
        "from sklearn.preprocessing import StandardScaler,MinMaxScaler\n",
        "\n",
        "scaler = MinMaxScaler()    # robust to outliers\n",
        "\n",
        "scaler_train = scaler.fit(x_train)\n",
        "scaler_val = scaler.fit(x_test)\n",
        "\n",
        "x_train.loc[:] = scaler_train.transform(x_train.to_numpy())\n",
        "x_test.loc[:] = scaler_train.transform(x_test.to_numpy())"
      ]
    },
    {
      "cell_type": "code",
      "execution_count": null,
      "id": "4rAK85GyODDd",
      "metadata": {
        "colab": {
          "background_save": true
        },
        "id": "4rAK85GyODDd"
      },
      "outputs": [],
      "source": [
        "# converting fro 2D data 3D data\n",
        "from scipy.stats import mode\n",
        "\n",
        "def create_dataset(x, y, timesteps, step):\n",
        "  x_set = []\n",
        "  y_set = []\n",
        "  for i in range(0,len(x)-timesteps, step):\n",
        "    data = x.iloc[i: (i + timesteps)].values\n",
        "    labels = y.iloc[i: i + timesteps]\n",
        "    x_set.append(data)\n",
        "    y_set.append(mode(labels)[0][0])\n",
        "  \n",
        "  return np.array(x_set), np.array(y_set).reshape(-1,1)\n",
        "\n",
        "timesteps = 4\n",
        "steps = 1\n",
        "\n",
        "X_train, Y_train = create_dataset( x_train, y_train, timesteps, steps)        # making the dataset ready for training\n",
        "X_test , Y_test = create_dataset( x_test, y_test, timesteps, steps)           # making the dataset ready for validation"
      ]
    },
    {
      "cell_type": "code",
      "execution_count": null,
      "id": "j7GfT98EOD0_",
      "metadata": {
        "colab": {
          "background_save": true
        },
        "id": "j7GfT98EOD0_",
        "outputId": "5cd826df-e0fe-4e13-eae3-7621918ae050"
      },
      "outputs": [
        {
          "name": "stdout",
          "output_type": "stream",
          "text": [
            "(1316321, 4, 7)\n",
            "(1316321, 1)\n",
            "(564136, 4, 7)\n",
            "(564136, 1)\n",
            "\n",
            "(1316321, 5)\n",
            "(564136, 5)\n"
          ]
        }
      ],
      "source": [
        "from tensorflow.keras.utils import to_categorical\n",
        "\n",
        "print(\"Shape of x_train\",X_train.shape)          \n",
        "print(\"Shape of y_train\",Y_train.shape)          \n",
        "\n",
        "print(\"Shape of x_test\",X_test.shape)           \n",
        "print(\"shape of Y_test\",Y_test.shape)           \n",
        "print()\n",
        "\n",
        "Y_train = to_categorical(Y_train)\n",
        "Y_test = to_categorical(Y_test)\n",
        "print(\"Shpae of Y_train after categorical\",Y_train.shape)          \n",
        "print(\"Shape of Y_test after categorical\",Y_test.shape)           "
      ]
    },
    {
      "cell_type": "code",
      "execution_count": null,
      "id": "uXjnH3xBOFvc",
      "metadata": {
        "colab": {
          "background_save": true
        },
        "id": "uXjnH3xBOFvc"
      },
      "outputs": [],
      "source": [
        "# parameters model building\n",
        "batch_size = 128\n",
        "epochs = 10"
      ]
    },
    {
      "cell_type": "code",
      "execution_count": null,
      "id": "kzly43_IOHZ3",
      "metadata": {
        "colab": {
          "background_save": true
        },
        "id": "kzly43_IOHZ3"
      },
      "outputs": [],
      "source": [
        "# Builfing Bi-LSTM model\n",
        "model = keras.Sequential()\n",
        "model.add(keras.layers.Bidirectional(LSTM( units = 128, input_shape = [X_train.shape[1],X_train.shape[2]])))\n",
        "model.add(Dropout(rate = 0.6))\n",
        "model.add(Dense(units=128,activation='relu'))\n",
        "model.add(Dense(units = 64,activation='relu'))\n",
        "model.add(Dense(units=5,activation='softmax'))\n",
        "\n",
        "model.compile(loss= 'categorical_crossentropy', optimizer = 'Adam', metrics = ['Accuracy'])\n"
      ]
    },
    {
      "cell_type": "code",
      "execution_count": null,
      "id": "0KilfYbMXRdl",
      "metadata": {
        "colab": {
          "base_uri": "https://localhost:8080/"
        },
        "id": "0KilfYbMXRdl",
        "outputId": "3e77ac18-5980-4322-d797-4ef54023ae4a"
      },
      "outputs": [
        {
          "name": "stdout",
          "output_type": "stream",
          "text": [
            "10284/10284 [==============================] - 693s 67ms/step - loss: 0.8298 - Accuracy: 0.7249 - val_loss: 0.8151 - val_Accuracy: 0.7251\n"
          ]
        }
      ],
      "source": [
        "# fitting the model\n",
        "history = model.fit(X_train,Y_train, epochs = 1, batch_size = batch_size, validation_data= (X_test,Y_test))"
      ]
    },
    {
      "cell_type": "code",
      "execution_count": null,
      "id": "X1qOvI5QYlih",
      "metadata": {
        "id": "X1qOvI5QYlih"
      },
      "outputs": [],
      "source": [
        "# model prediction\n",
        "print(model.summary(line_length= 80))\n",
        "y_test_pred = model.predict(X_test)\n",
        "p = np.argmax(y_test_pred,axis=1)\n",
        "q = np.argmax(Y_test,axis=1)"
      ]
    },
    {
      "cell_type": "code",
      "execution_count": null,
      "id": "Vmtq0BsZiEQi",
      "metadata": {
        "id": "Vmtq0BsZiEQi"
      },
      "outputs": [],
      "source": [
        "from sklearn.metrics import precision_score, f1_score, classification_report,recall_score,accuracy_score\n",
        "prec = precision_score(q,p, average='weighted') # no warning\n",
        "print(\"\\nPrecision score :\",prec)\n",
        "f1 = f1_score(q,p, average='weighted')\n",
        "print(\"\\nF1_score \\t:\", f1)\n",
        "recall = recall_score(q,p,average= 'micro')\n",
        "print(\"\\nRecall score    :\",recall)\n",
        "accuracy = accuracy_score(q,p)\n",
        "print(\"\\nAccuracy \\t:\",accuracy)\n",
        "print()"
      ]
    },
    {
      "cell_type": "markdown",
      "id": "JTm-2qHsZHn5",
      "metadata": {
        "id": "JTm-2qHsZHn5"
      },
      "source": [
        "# CNN"
      ]
    },
    {
      "cell_type": "code",
      "execution_count": null,
      "id": "sFdDk-Q8UdgV",
      "metadata": {
        "id": "sFdDk-Q8UdgV"
      },
      "outputs": [],
      "source": [
        "#2D to 3D conversion\n",
        "def create_dataset(x, y, timesteps, step):\n",
        "  x_set = []\n",
        "  y_set = []\n",
        "  for i in range(0,len(x)-timesteps, step):\n",
        "    data = x.iloc[i: (i + timesteps)].values\n",
        "    labels = y.iloc[i: i + timesteps]\n",
        "    x_set.append(data)\n",
        "    y_set.append(mode(labels)[0][0])\n",
        "  \n",
        "  return np.array(x_set), np.array(y_set).reshape(-1,1)"
      ]
    },
    {
      "cell_type": "code",
      "execution_count": null,
      "id": "TLKWThSOZMUA",
      "metadata": {
        "colab": {
          "base_uri": "https://localhost:8080/"
        },
        "id": "TLKWThSOZMUA",
        "outputId": "c4e17d6f-fda5-42a0-b030-ad7bd9a9b5ae"
      },
      "outputs": [
        {
          "name": "stdout",
          "output_type": "stream",
          "text": [
            "(1316285, 40, 7)\n",
            "(1316285, 1)\n",
            "(564100, 40, 7)\n",
            "(564100, 1)\n",
            "(1316285, 5)\n",
            "(564100, 5)\n"
          ]
        }
      ],
      "source": [
        "timesteps = 40\n",
        "steps = 1\n",
        "X_train, Y_train = create_dataset( x_train, y_train, timesteps, steps)\n",
        "X_test , Y_test = create_dataset( x_test, y_test, timesteps, steps)\n",
        "\n",
        "print(\"Shape of x_train\",X_train.shape)          \n",
        "print(\"Shape of y_train\",Y_train.shape)          \n",
        "\n",
        "print(\"Shape of x_test\",X_test.shape)           \n",
        "print(\"shape of Y_test\",Y_test.shape)           \n",
        "print()\n",
        "\n",
        "Y_train = to_categorical(Y_train)\n",
        "Y_test = to_categorical(Y_test)\n",
        "print(\"Shpae of Y_train after categorical\",Y_train.shape)          \n",
        "print(\"Shape of Y_test after categorical\",Y_test.shape)  "
      ]
    },
    {
      "cell_type": "code",
      "execution_count": null,
      "id": "YD5yIIPiZJ42",
      "metadata": {
        "colab": {
          "base_uri": "https://localhost:8080/"
        },
        "id": "YD5yIIPiZJ42",
        "outputId": "f747c98a-d50a-467f-ae65-9b6c517aae1f"
      },
      "outputs": [
        {
          "name": "stdout",
          "output_type": "stream",
          "text": [
            "Model: \"sequential\"\n",
            "________________________________________________________________________________\n",
            " Layer (type)                       Output Shape                    Param #     \n",
            "================================================================================\n",
            " conv1d (Conv1D)                    (None, 38, 128)                 2816        \n",
            "                                                                                \n",
            " max_pooling1d (MaxPooling1D)       (None, 19, 128)                 0           \n",
            "                                                                                \n",
            " conv1d_1 (Conv1D)                  (None, 17, 64)                  24640       \n",
            "                                                                                \n",
            " dropout (Dropout)                  (None, 17, 64)                  0           \n",
            "                                                                                \n",
            " max_pooling1d_1 (MaxPooling1D)     (None, 8, 64)                   0           \n",
            "                                                                                \n",
            " flatten (Flatten)                  (None, 512)                     0           \n",
            "                                                                                \n",
            " dense (Dense)                      (None, 256)                     131328      \n",
            "                                                                                \n",
            " dense_1 (Dense)                    (None, 5)                       1285        \n",
            "                                                                                \n",
            "================================================================================\n",
            "Total params: 160,069\n",
            "Trainable params: 160,069\n",
            "Non-trainable params: 0\n",
            "________________________________________________________________________________\n"
          ]
        }
      ],
      "source": [
        "# Building the model\n",
        "model = Sequential()\n",
        "model.add(Conv1D(filters=128, kernel_size=3, activation='relu', input_shape=(X_train.shape[1],X_train.shape[2])))\n",
        "model.add(MaxPooling1D(pool_size=2))\n",
        "model.add(Conv1D(filters=64, kernel_size=3, activation='relu'))\n",
        "model.add(Dropout(0.5))\n",
        "model.add(MaxPooling1D(pool_size=2))\n",
        "model.add(Flatten())\n",
        "model.add(Dense(256, activation='relu'))\n",
        "model.add(Dense(5, activation='softmax'))\n",
        "model.compile(loss='categorical_crossentropy', optimizer='adam', metrics=['accuracy'])"
      ]
    },
    {
      "cell_type": "code",
      "execution_count": null,
      "id": "bFcQNrlzZa62",
      "metadata": {
        "colab": {
          "base_uri": "https://localhost:8080/"
        },
        "id": "bFcQNrlzZa62",
        "outputId": "8240f794-e0ce-4fa4-f4f0-9e62cdf0156b"
      },
      "outputs": [
        {
          "name": "stdout",
          "output_type": "stream",
          "text": [
            "Epoch 1/3\n",
            "10284/10284 [==============================] - 329s 32ms/step - loss: 0.2859 - accuracy: 0.9267 - val_loss: 0.2888 - val_accuracy: 0.9238\n",
            "Epoch 2/3\n",
            "10284/10284 [==============================] - 327s 32ms/step - loss: 0.2785 - accuracy: 0.9268 - val_loss: 0.2859 - val_accuracy: 0.9238\n",
            "Epoch 3/3\n",
            "10284/10284 [==============================] - 328s 32ms/step - loss: 0.2760 - accuracy: 0.9268 - val_loss: 0.2863 - val_accuracy: 0.9238\n"
          ]
        }
      ],
      "source": [
        "# fit network\n",
        "history = model.fit(X_train, Y_train, validation_data=(X_test,Y_test), epochs=3, batch_size=128, verbose=1)\n",
        "  "
      ]
    },
    {
      "cell_type": "code",
      "execution_count": null,
      "id": "HmdUVNVoZetb",
      "metadata": {
        "id": "HmdUVNVoZetb"
      },
      "outputs": [],
      "source": [
        "# model prediction\n",
        "print(model.summary(line_length= 80))\n",
        "y_test_pred = model.predict(X_test)\n",
        "p = np.argmax(y_test_pred,axis=1)\n",
        "q = np.argmax(Y_test,axis=1)"
      ]
    },
    {
      "cell_type": "code",
      "execution_count": null,
      "id": "w__3SLWetyNY",
      "metadata": {
        "colab": {
          "base_uri": "https://localhost:8080/"
        },
        "id": "w__3SLWetyNY",
        "outputId": "e04ce0b8-d787-4c91-fc0c-b76f86b2e158"
      },
      "outputs": [
        {
          "name": "stderr",
          "output_type": "stream",
          "text": [
            "/usr/local/lib/python3.7/dist-packages/sklearn/metrics/_classification.py:1272: UndefinedMetricWarning: Precision is ill-defined and being set to 0.0 in labels with no predicted samples. Use `zero_division` parameter to control this behavior.\n",
            "  _warn_prf(average, modifier, msg_start, len(result))\n"
          ]
        },
        {
          "name": "stdout",
          "output_type": "stream",
          "text": [
            "\n",
            "Precision score : 0.8533717876164396\n",
            "\n",
            "F1_score \t: 0.8871817313676837\n",
            "\n",
            "Recall score    : 0.923781244460202\n",
            "\n",
            "Accuracy \t: 0.923781244460202\n",
            "\n"
          ]
        }
      ],
      "source": [
        "from sklearn.metrics import precision_score, f1_score, classification_report,recall_score,accuracy_score\n",
        "prec = precision_score(q,p, average='weighted') # no warning\n",
        "print(\"\\nPrecision score :\",prec)\n",
        "f1 = f1_score(q,p, average='weighted')\n",
        "print(\"\\nF1_score \\t:\", f1)\n",
        "recall = recall_score(q,p,average= 'micro')\n",
        "print(\"\\nRecall score    :\",recall)\n",
        "accuracy = accuracy_score(q,p)\n",
        "print(\"\\nAccuracy \\t:\",accuracy)\n",
        "print()"
      ]
    }
  ],
  "metadata": {
    "colab": {
      "collapsed_sections": [
        "aahTYoWxMZrg",
        "69s3lmvoD5go",
        "mpx6Gw11PHTa",
        "9wsG4kEPAWZo",
        "g78Ffg_sWcFw",
        "wSL9VT4SYWSy",
        "P6Q9DYCQ9qtQ"
      ],
      "name": "ALDA_Project.ipynb",
      "provenance": []
    },
    "kernelspec": {
      "display_name": "Python 3",
      "language": "python",
      "name": "python3"
    },
    "language_info": {
      "codemirror_mode": {
        "name": "ipython",
        "version": 3
      },
      "file_extension": ".py",
      "mimetype": "text/x-python",
      "name": "python",
      "nbconvert_exporter": "python",
      "pygments_lexer": "ipython3",
      "version": "3.8.8"
    }
  },
  "nbformat": 4,
  "nbformat_minor": 5
}
